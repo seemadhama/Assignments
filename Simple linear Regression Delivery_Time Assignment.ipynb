{
 "cells": [
  {
   "cell_type": "code",
   "execution_count": 1,
   "id": "d3460602",
   "metadata": {
    "ExecuteTime": {
     "end_time": "2022-05-05T04:26:11.362177Z",
     "start_time": "2022-05-05T04:26:09.469230Z"
    }
   },
   "outputs": [],
   "source": [
    "import numpy as np\n",
    "import pandas as pd\n",
    "import matplotlib.pyplot as plt\n",
    "import statsmodels.api as sm\n",
    "from numpy.polynomial.polynomial import polyfit\n",
    "from sklearn.linear_model import LinearRegression"
   ]
  },
  {
   "cell_type": "markdown",
   "id": "9d68a4c4",
   "metadata": {},
   "source": [
    "# 1 - Business Problem"
   ]
  },
  {
   "cell_type": "markdown",
   "id": "9f9296c9",
   "metadata": {},
   "source": [
    "_Deliverytime -> Predict delivery time using sorting time"
   ]
  },
  {
   "cell_type": "markdown",
   "id": "c7fbdc57",
   "metadata": {},
   "source": [
    "# 2 - Data collection and description"
   ]
  },
  {
   "cell_type": "code",
   "execution_count": 2,
   "id": "fcb25b78",
   "metadata": {
    "ExecuteTime": {
     "end_time": "2022-05-05T04:27:14.482969Z",
     "start_time": "2022-05-05T04:27:14.446758Z"
    }
   },
   "outputs": [],
   "source": [
    "df = pd.read_csv(\"C:/Users/seema_dhama/OneDrive - Dell Technologies/Desktop/Data Science/Assignments/delivery_time.csv\")"
   ]
  },
  {
   "cell_type": "code",
   "execution_count": 3,
   "id": "fc9fa67b",
   "metadata": {
    "ExecuteTime": {
     "end_time": "2022-05-05T04:27:17.792033Z",
     "start_time": "2022-05-05T04:27:17.759855Z"
    }
   },
   "outputs": [
    {
     "data": {
      "text/html": [
       "<div>\n",
       "<style scoped>\n",
       "    .dataframe tbody tr th:only-of-type {\n",
       "        vertical-align: middle;\n",
       "    }\n",
       "\n",
       "    .dataframe tbody tr th {\n",
       "        vertical-align: top;\n",
       "    }\n",
       "\n",
       "    .dataframe thead th {\n",
       "        text-align: right;\n",
       "    }\n",
       "</style>\n",
       "<table border=\"1\" class=\"dataframe\">\n",
       "  <thead>\n",
       "    <tr style=\"text-align: right;\">\n",
       "      <th></th>\n",
       "      <th>Delivery Time</th>\n",
       "      <th>Sorting Time</th>\n",
       "    </tr>\n",
       "  </thead>\n",
       "  <tbody>\n",
       "    <tr>\n",
       "      <th>0</th>\n",
       "      <td>21.00</td>\n",
       "      <td>10</td>\n",
       "    </tr>\n",
       "    <tr>\n",
       "      <th>1</th>\n",
       "      <td>13.50</td>\n",
       "      <td>4</td>\n",
       "    </tr>\n",
       "    <tr>\n",
       "      <th>2</th>\n",
       "      <td>19.75</td>\n",
       "      <td>6</td>\n",
       "    </tr>\n",
       "    <tr>\n",
       "      <th>3</th>\n",
       "      <td>24.00</td>\n",
       "      <td>9</td>\n",
       "    </tr>\n",
       "    <tr>\n",
       "      <th>4</th>\n",
       "      <td>29.00</td>\n",
       "      <td>10</td>\n",
       "    </tr>\n",
       "    <tr>\n",
       "      <th>5</th>\n",
       "      <td>15.35</td>\n",
       "      <td>6</td>\n",
       "    </tr>\n",
       "    <tr>\n",
       "      <th>6</th>\n",
       "      <td>19.00</td>\n",
       "      <td>7</td>\n",
       "    </tr>\n",
       "    <tr>\n",
       "      <th>7</th>\n",
       "      <td>9.50</td>\n",
       "      <td>3</td>\n",
       "    </tr>\n",
       "    <tr>\n",
       "      <th>8</th>\n",
       "      <td>17.90</td>\n",
       "      <td>10</td>\n",
       "    </tr>\n",
       "    <tr>\n",
       "      <th>9</th>\n",
       "      <td>18.75</td>\n",
       "      <td>9</td>\n",
       "    </tr>\n",
       "    <tr>\n",
       "      <th>10</th>\n",
       "      <td>19.83</td>\n",
       "      <td>8</td>\n",
       "    </tr>\n",
       "    <tr>\n",
       "      <th>11</th>\n",
       "      <td>10.75</td>\n",
       "      <td>4</td>\n",
       "    </tr>\n",
       "    <tr>\n",
       "      <th>12</th>\n",
       "      <td>16.68</td>\n",
       "      <td>7</td>\n",
       "    </tr>\n",
       "    <tr>\n",
       "      <th>13</th>\n",
       "      <td>11.50</td>\n",
       "      <td>3</td>\n",
       "    </tr>\n",
       "    <tr>\n",
       "      <th>14</th>\n",
       "      <td>12.03</td>\n",
       "      <td>3</td>\n",
       "    </tr>\n",
       "    <tr>\n",
       "      <th>15</th>\n",
       "      <td>14.88</td>\n",
       "      <td>4</td>\n",
       "    </tr>\n",
       "    <tr>\n",
       "      <th>16</th>\n",
       "      <td>13.75</td>\n",
       "      <td>6</td>\n",
       "    </tr>\n",
       "    <tr>\n",
       "      <th>17</th>\n",
       "      <td>18.11</td>\n",
       "      <td>7</td>\n",
       "    </tr>\n",
       "    <tr>\n",
       "      <th>18</th>\n",
       "      <td>8.00</td>\n",
       "      <td>2</td>\n",
       "    </tr>\n",
       "    <tr>\n",
       "      <th>19</th>\n",
       "      <td>17.83</td>\n",
       "      <td>7</td>\n",
       "    </tr>\n",
       "    <tr>\n",
       "      <th>20</th>\n",
       "      <td>21.50</td>\n",
       "      <td>5</td>\n",
       "    </tr>\n",
       "  </tbody>\n",
       "</table>\n",
       "</div>"
      ],
      "text/plain": [
       "    Delivery Time  Sorting Time\n",
       "0           21.00            10\n",
       "1           13.50             4\n",
       "2           19.75             6\n",
       "3           24.00             9\n",
       "4           29.00            10\n",
       "5           15.35             6\n",
       "6           19.00             7\n",
       "7            9.50             3\n",
       "8           17.90            10\n",
       "9           18.75             9\n",
       "10          19.83             8\n",
       "11          10.75             4\n",
       "12          16.68             7\n",
       "13          11.50             3\n",
       "14          12.03             3\n",
       "15          14.88             4\n",
       "16          13.75             6\n",
       "17          18.11             7\n",
       "18           8.00             2\n",
       "19          17.83             7\n",
       "20          21.50             5"
      ]
     },
     "execution_count": 3,
     "metadata": {},
     "output_type": "execute_result"
    }
   ],
   "source": [
    "df"
   ]
  },
  {
   "cell_type": "markdown",
   "id": "26b90a00",
   "metadata": {},
   "source": [
    "# Scatter Plot"
   ]
  },
  {
   "cell_type": "code",
   "execution_count": 4,
   "id": "97e1b194",
   "metadata": {
    "ExecuteTime": {
     "end_time": "2022-05-05T04:27:43.232297Z",
     "start_time": "2022-05-05T04:27:43.214633Z"
    }
   },
   "outputs": [],
   "source": [
    "x = df['Sorting Time']\n",
    "y = df['Delivery Time']"
   ]
  },
  {
   "cell_type": "code",
   "execution_count": 5,
   "id": "7597cac0",
   "metadata": {
    "ExecuteTime": {
     "end_time": "2022-05-05T04:27:54.497968Z",
     "start_time": "2022-05-05T04:27:54.275972Z"
    }
   },
   "outputs": [
    {
     "data": {
      "image/png": "[encoded data removed]",
      "text/plain": [
       "<Figure size 432x288 with 1 Axes>"
      ]
     },
     "metadata": {
      "needs_background": "light"
     },
     "output_type": "display_data"
    }
   ],
   "source": [
    "b, m = polyfit(x, y, 1)\n",
    "plt.scatter(x, y)\n",
    "plt.plot(x, y, '.')\n",
    "plt.plot(x, b + m * x, '-')\n",
    "plt.title('Scatter plot Delivery Time')\n",
    "plt.xlabel('Sorting Time')\n",
    "plt.ylabel('Delivery Time')\n",
    "plt.show()"
   ]
  },
  {
   "cell_type": "markdown",
   "id": "f73b69e2",
   "metadata": {},
   "source": [
    "As displayed in the scatter plot, the data does contains some outliers, but there is potive correlation between delivery time and sorting Time"
   ]
  },
  {
   "cell_type": "markdown",
   "id": "d4c275d9",
   "metadata": {},
   "source": [
    "# Correlation Analysis"
   ]
  },
  {
   "cell_type": "code",
   "execution_count": 6,
   "id": "0e742a05",
   "metadata": {
    "ExecuteTime": {
     "end_time": "2022-05-05T04:28:34.246118Z",
     "start_time": "2022-05-05T04:28:34.235220Z"
    }
   },
   "outputs": [],
   "source": [
    "corr = np.corrcoef(x, y)\n"
   ]
  },
  {
   "cell_type": "code",
   "execution_count": 7,
   "id": "11f8bd02",
   "metadata": {
    "ExecuteTime": {
     "end_time": "2022-05-05T04:28:43.310111Z",
     "start_time": "2022-05-05T04:28:43.294712Z"
    }
   },
   "outputs": [
    {
     "data": {
      "text/plain": [
       "array([[1.        , 0.82599726],\n",
       "       [0.82599726, 1.        ]])"
      ]
     },
     "execution_count": 7,
     "metadata": {},
     "output_type": "execute_result"
    }
   ],
   "source": [
    "corr"
   ]
  },
  {
   "cell_type": "markdown",
   "id": "c3eb663f",
   "metadata": {},
   "source": [
    "The correlation between delivery time and sorting Time is high (83%)"
   ]
  },
  {
   "cell_type": "markdown",
   "id": "3dbc23d5",
   "metadata": {},
   "source": [
    "# 3 - Regression Model"
   ]
  },
  {
   "cell_type": "markdown",
   "id": "f03be81c",
   "metadata": {},
   "source": [
    "# 1 - No transformation"
   ]
  },
  {
   "cell_type": "code",
   "execution_count": 8,
   "id": "615bbc29",
   "metadata": {
    "ExecuteTime": {
     "end_time": "2022-05-05T04:29:39.650847Z",
     "start_time": "2022-05-05T04:29:39.641377Z"
    }
   },
   "outputs": [],
   "source": [
    "model = sm.OLS(y, x).fit()\n",
    "predictions = model.predict(x)"
   ]
  },
  {
   "cell_type": "code",
   "execution_count": 9,
   "id": "f3cf8887",
   "metadata": {
    "ExecuteTime": {
     "end_time": "2022-05-05T04:29:47.645113Z",
     "start_time": "2022-05-05T04:29:47.609327Z"
    }
   },
   "outputs": [
    {
     "data": {
      "text/html": [
       "<table class=\"simpletable\">\n",
       "<caption>OLS Regression Results</caption>\n",
       "<tr>\n",
       "  <th>Dep. Variable:</th>      <td>Delivery Time</td>  <th>  R-squared (uncentered):</th>      <td>   0.955</td>\n",
       "</tr>\n",
       "<tr>\n",
       "  <th>Model:</th>                   <td>OLS</td>       <th>  Adj. R-squared (uncentered):</th> <td>   0.953</td>\n",
       "</tr>\n",
       "<tr>\n",
       "  <th>Method:</th>             <td>Least Squares</td>  <th>  F-statistic:       </th>          <td>   424.5</td>\n",
       "</tr>\n",
       "<tr>\n",
       "  <th>Date:</th>             <td>Sat, 07 Jan 2023</td> <th>  Prob (F-statistic):</th>          <td>6.12e-15</td>\n",
       "</tr>\n",
       "<tr>\n",
       "  <th>Time:</th>                 <td>00:46:53</td>     <th>  Log-Likelihood:    </th>          <td> -57.349</td>\n",
       "</tr>\n",
       "<tr>\n",
       "  <th>No. Observations:</th>      <td>    21</td>      <th>  AIC:               </th>          <td>   116.7</td>\n",
       "</tr>\n",
       "<tr>\n",
       "  <th>Df Residuals:</th>          <td>    20</td>      <th>  BIC:               </th>          <td>   117.7</td>\n",
       "</tr>\n",
       "<tr>\n",
       "  <th>Df Model:</th>              <td>     1</td>      <th>                     </th>              <td> </td>   \n",
       "</tr>\n",
       "<tr>\n",
       "  <th>Covariance Type:</th>      <td>nonrobust</td>    <th>                     </th>              <td> </td>   \n",
       "</tr>\n",
       "</table>\n",
       "<table class=\"simpletable\">\n",
       "<tr>\n",
       "        <td></td>          <th>coef</th>     <th>std err</th>      <th>t</th>      <th>P>|t|</th>  <th>[0.025</th>    <th>0.975]</th>  \n",
       "</tr>\n",
       "<tr>\n",
       "  <th>Sorting Time</th> <td>    2.5652</td> <td>    0.125</td> <td>   20.603</td> <td> 0.000</td> <td>    2.306</td> <td>    2.825</td>\n",
       "</tr>\n",
       "</table>\n",
       "<table class=\"simpletable\">\n",
       "<tr>\n",
       "  <th>Omnibus:</th>       <td> 1.504</td> <th>  Durbin-Watson:     </th> <td>   1.305</td>\n",
       "</tr>\n",
       "<tr>\n",
       "  <th>Prob(Omnibus):</th> <td> 0.471</td> <th>  Jarque-Bera (JB):  </th> <td>   0.508</td>\n",
       "</tr>\n",
       "<tr>\n",
       "  <th>Skew:</th>          <td>-0.348</td> <th>  Prob(JB):          </th> <td>   0.776</td>\n",
       "</tr>\n",
       "<tr>\n",
       "  <th>Kurtosis:</th>      <td> 3.310</td> <th>  Cond. No.          </th> <td>    1.00</td>\n",
       "</tr>\n",
       "</table><br/><br/>Notes:<br/>[1] R² is computed without centering (uncentered) since the model does not contain a constant.<br/>[2] Standard Errors assume that the covariance matrix of the errors is correctly specified."
      ],
      "text/plain": [
       "<class 'statsmodels.iolib.summary.Summary'>\n",
       "\"\"\"\n",
       "                                 OLS Regression Results                                \n",
       "=======================================================================================\n",
       "Dep. Variable:          Delivery Time   R-squared (uncentered):                   0.955\n",
       "Model:                            OLS   Adj. R-squared (uncentered):              0.953\n",
       "Method:                 Least Squares   F-statistic:                              424.5\n",
       "Date:                Sat, 07 Jan 2023   Prob (F-statistic):                    6.12e-15\n",
       "Time:                        00:46:53   Log-Likelihood:                         -57.349\n",
       "No. Observations:                  21   AIC:                                      116.7\n",
       "Df Residuals:                      20   BIC:                                      117.7\n",
       "Df Model:                           1                                                  \n",
       "Covariance Type:            nonrobust                                                  \n",
       "================================================================================\n",
       "                   coef    std err          t      P>|t|      [0.025      0.975]\n",
       "--------------------------------------------------------------------------------\n",
       "Sorting Time     2.5652      0.125     20.603      0.000       2.306       2.825\n",
       "==============================================================================\n",
       "Omnibus:                        1.504   Durbin-Watson:                   1.305\n",
       "Prob(Omnibus):                  0.471   Jarque-Bera (JB):                0.508\n",
       "Skew:                          -0.348   Prob(JB):                        0.776\n",
       "Kurtosis:                       3.310   Cond. No.                         1.00\n",
       "==============================================================================\n",
       "\n",
       "Notes:\n",
       "[1] R² is computed without centering (uncentered) since the model does not contain a constant.\n",
       "[2] Standard Errors assume that the covariance matrix of the errors is correctly specified.\n",
       "\"\"\""
      ]
     },
     "execution_count": 9,
     "metadata": {},
     "output_type": "execute_result"
    }
   ],
   "source": [
    "model.summary()"
   ]
  },
  {
   "cell_type": "markdown",
   "id": "f22b9f18",
   "metadata": {},
   "source": [
    "# 2 - Log Transformation of X"
   ]
  },
  {
   "cell_type": "code",
   "execution_count": 10,
   "id": "c3453bcb",
   "metadata": {
    "ExecuteTime": {
     "end_time": "2022-05-05T04:30:08.518157Z",
     "start_time": "2022-05-05T04:30:08.502299Z"
    }
   },
   "outputs": [],
   "source": [
    "x_log = np.log(df['Sorting Time'])"
   ]
  },
  {
   "cell_type": "code",
   "execution_count": 11,
   "id": "ef6155a3",
   "metadata": {
    "ExecuteTime": {
     "end_time": "2022-05-05T04:30:16.105149Z",
     "start_time": "2022-05-05T04:30:16.093934Z"
    }
   },
   "outputs": [],
   "source": [
    "model = sm.OLS(y, x_log).fit()\n",
    "predictions = model.predict(x_log)"
   ]
  },
  {
   "cell_type": "code",
   "execution_count": 12,
   "id": "204a504c",
   "metadata": {
    "ExecuteTime": {
     "end_time": "2022-05-05T04:30:23.201191Z",
     "start_time": "2022-05-05T04:30:23.176180Z"
    }
   },
   "outputs": [
    {
     "data": {
      "text/html": [
       "<table class=\"simpletable\">\n",
       "<caption>OLS Regression Results</caption>\n",
       "<tr>\n",
       "  <th>Dep. Variable:</th>      <td>Delivery Time</td>  <th>  R-squared (uncentered):</th>      <td>   0.975</td>\n",
       "</tr>\n",
       "<tr>\n",
       "  <th>Model:</th>                   <td>OLS</td>       <th>  Adj. R-squared (uncentered):</th> <td>   0.974</td>\n",
       "</tr>\n",
       "<tr>\n",
       "  <th>Method:</th>             <td>Least Squares</td>  <th>  F-statistic:       </th>          <td>   791.0</td>\n",
       "</tr>\n",
       "<tr>\n",
       "  <th>Date:</th>             <td>Sat, 07 Jan 2023</td> <th>  Prob (F-statistic):</th>          <td>1.48e-17</td>\n",
       "</tr>\n",
       "<tr>\n",
       "  <th>Time:</th>                 <td>00:46:56</td>     <th>  Log-Likelihood:    </th>          <td> -51.035</td>\n",
       "</tr>\n",
       "<tr>\n",
       "  <th>No. Observations:</th>      <td>    21</td>      <th>  AIC:               </th>          <td>   104.1</td>\n",
       "</tr>\n",
       "<tr>\n",
       "  <th>Df Residuals:</th>          <td>    20</td>      <th>  BIC:               </th>          <td>   105.1</td>\n",
       "</tr>\n",
       "<tr>\n",
       "  <th>Df Model:</th>              <td>     1</td>      <th>                     </th>              <td> </td>   \n",
       "</tr>\n",
       "<tr>\n",
       "  <th>Covariance Type:</th>      <td>nonrobust</td>    <th>                     </th>              <td> </td>   \n",
       "</tr>\n",
       "</table>\n",
       "<table class=\"simpletable\">\n",
       "<tr>\n",
       "        <td></td>          <th>coef</th>     <th>std err</th>      <th>t</th>      <th>P>|t|</th>  <th>[0.025</th>    <th>0.975]</th>  \n",
       "</tr>\n",
       "<tr>\n",
       "  <th>Sorting Time</th> <td>    9.6706</td> <td>    0.344</td> <td>   28.124</td> <td> 0.000</td> <td>    8.953</td> <td>   10.388</td>\n",
       "</tr>\n",
       "</table>\n",
       "<table class=\"simpletable\">\n",
       "<tr>\n",
       "  <th>Omnibus:</th>       <td> 3.656</td> <th>  Durbin-Watson:     </th> <td>   1.453</td>\n",
       "</tr>\n",
       "<tr>\n",
       "  <th>Prob(Omnibus):</th> <td> 0.161</td> <th>  Jarque-Bera (JB):  </th> <td>   2.164</td>\n",
       "</tr>\n",
       "<tr>\n",
       "  <th>Skew:</th>          <td> 0.772</td> <th>  Prob(JB):          </th> <td>   0.339</td>\n",
       "</tr>\n",
       "<tr>\n",
       "  <th>Kurtosis:</th>      <td> 3.298</td> <th>  Cond. No.          </th> <td>    1.00</td>\n",
       "</tr>\n",
       "</table><br/><br/>Notes:<br/>[1] R² is computed without centering (uncentered) since the model does not contain a constant.<br/>[2] Standard Errors assume that the covariance matrix of the errors is correctly specified."
      ],
      "text/plain": [
       "<class 'statsmodels.iolib.summary.Summary'>\n",
       "\"\"\"\n",
       "                                 OLS Regression Results                                \n",
       "=======================================================================================\n",
       "Dep. Variable:          Delivery Time   R-squared (uncentered):                   0.975\n",
       "Model:                            OLS   Adj. R-squared (uncentered):              0.974\n",
       "Method:                 Least Squares   F-statistic:                              791.0\n",
       "Date:                Sat, 07 Jan 2023   Prob (F-statistic):                    1.48e-17\n",
       "Time:                        00:46:56   Log-Likelihood:                         -51.035\n",
       "No. Observations:                  21   AIC:                                      104.1\n",
       "Df Residuals:                      20   BIC:                                      105.1\n",
       "Df Model:                           1                                                  \n",
       "Covariance Type:            nonrobust                                                  \n",
       "================================================================================\n",
       "                   coef    std err          t      P>|t|      [0.025      0.975]\n",
       "--------------------------------------------------------------------------------\n",
       "Sorting Time     9.6706      0.344     28.124      0.000       8.953      10.388\n",
       "==============================================================================\n",
       "Omnibus:                        3.656   Durbin-Watson:                   1.453\n",
       "Prob(Omnibus):                  0.161   Jarque-Bera (JB):                2.164\n",
       "Skew:                           0.772   Prob(JB):                        0.339\n",
       "Kurtosis:                       3.298   Cond. No.                         1.00\n",
       "==============================================================================\n",
       "\n",
       "Notes:\n",
       "[1] R² is computed without centering (uncentered) since the model does not contain a constant.\n",
       "[2] Standard Errors assume that the covariance matrix of the errors is correctly specified.\n",
       "\"\"\""
      ]
     },
     "execution_count": 12,
     "metadata": {},
     "output_type": "execute_result"
    }
   ],
   "source": [
    "model.summary()"
   ]
  },
  {
   "cell_type": "markdown",
   "id": "46ad4405",
   "metadata": {},
   "source": [
    "# 3 - Log Transformation of Y"
   ]
  },
  {
   "cell_type": "code",
   "execution_count": 13,
   "id": "8ec2cb7a",
   "metadata": {
    "ExecuteTime": {
     "end_time": "2022-05-05T04:30:44.136306Z",
     "start_time": "2022-05-05T04:30:44.129765Z"
    }
   },
   "outputs": [],
   "source": [
    "y_log = np.log(df['Delivery Time'])"
   ]
  },
  {
   "cell_type": "code",
   "execution_count": 14,
   "id": "1515754f",
   "metadata": {
    "ExecuteTime": {
     "end_time": "2022-05-05T04:30:50.945606Z",
     "start_time": "2022-05-05T04:30:50.926938Z"
    }
   },
   "outputs": [],
   "source": [
    "model = sm.OLS(y_log, x).fit()\n",
    "predictions = model.predict(x)"
   ]
  },
  {
   "cell_type": "code",
   "execution_count": 15,
   "id": "fee55601",
   "metadata": {
    "ExecuteTime": {
     "end_time": "2022-05-05T04:30:58.093631Z",
     "start_time": "2022-05-05T04:30:58.070411Z"
    }
   },
   "outputs": [
    {
     "data": {
      "text/html": [
       "<table class=\"simpletable\">\n",
       "<caption>OLS Regression Results</caption>\n",
       "<tr>\n",
       "  <th>Dep. Variable:</th>      <td>Delivery Time</td>  <th>  R-squared (uncentered):</th>      <td>   0.917</td>\n",
       "</tr>\n",
       "<tr>\n",
       "  <th>Model:</th>                   <td>OLS</td>       <th>  Adj. R-squared (uncentered):</th> <td>   0.912</td>\n",
       "</tr>\n",
       "<tr>\n",
       "  <th>Method:</th>             <td>Least Squares</td>  <th>  F-statistic:       </th>          <td>   219.7</td>\n",
       "</tr>\n",
       "<tr>\n",
       "  <th>Date:</th>             <td>Sat, 07 Jan 2023</td> <th>  Prob (F-statistic):</th>          <td>3.00e-12</td>\n",
       "</tr>\n",
       "<tr>\n",
       "  <th>Time:</th>                 <td>00:47:00</td>     <th>  Log-Likelihood:    </th>          <td> -25.284</td>\n",
       "</tr>\n",
       "<tr>\n",
       "  <th>No. Observations:</th>      <td>    21</td>      <th>  AIC:               </th>          <td>   52.57</td>\n",
       "</tr>\n",
       "<tr>\n",
       "  <th>Df Residuals:</th>          <td>    20</td>      <th>  BIC:               </th>          <td>   53.61</td>\n",
       "</tr>\n",
       "<tr>\n",
       "  <th>Df Model:</th>              <td>     1</td>      <th>                     </th>              <td> </td>   \n",
       "</tr>\n",
       "<tr>\n",
       "  <th>Covariance Type:</th>      <td>nonrobust</td>    <th>                     </th>              <td> </td>   \n",
       "</tr>\n",
       "</table>\n",
       "<table class=\"simpletable\">\n",
       "<tr>\n",
       "        <td></td>          <th>coef</th>     <th>std err</th>      <th>t</th>      <th>P>|t|</th>  <th>[0.025</th>    <th>0.975]</th>  \n",
       "</tr>\n",
       "<tr>\n",
       "  <th>Sorting Time</th> <td>    0.4008</td> <td>    0.027</td> <td>   14.821</td> <td> 0.000</td> <td>    0.344</td> <td>    0.457</td>\n",
       "</tr>\n",
       "</table>\n",
       "<table class=\"simpletable\">\n",
       "<tr>\n",
       "  <th>Omnibus:</th>       <td> 2.572</td> <th>  Durbin-Watson:     </th> <td>   1.446</td>\n",
       "</tr>\n",
       "<tr>\n",
       "  <th>Prob(Omnibus):</th> <td> 0.276</td> <th>  Jarque-Bera (JB):  </th> <td>   1.346</td>\n",
       "</tr>\n",
       "<tr>\n",
       "  <th>Skew:</th>          <td>-0.275</td> <th>  Prob(JB):          </th> <td>   0.510</td>\n",
       "</tr>\n",
       "<tr>\n",
       "  <th>Kurtosis:</th>      <td> 1.889</td> <th>  Cond. No.          </th> <td>    1.00</td>\n",
       "</tr>\n",
       "</table><br/><br/>Notes:<br/>[1] R² is computed without centering (uncentered) since the model does not contain a constant.<br/>[2] Standard Errors assume that the covariance matrix of the errors is correctly specified."
      ],
      "text/plain": [
       "<class 'statsmodels.iolib.summary.Summary'>\n",
       "\"\"\"\n",
       "                                 OLS Regression Results                                \n",
       "=======================================================================================\n",
       "Dep. Variable:          Delivery Time   R-squared (uncentered):                   0.917\n",
       "Model:                            OLS   Adj. R-squared (uncentered):              0.912\n",
       "Method:                 Least Squares   F-statistic:                              219.7\n",
       "Date:                Sat, 07 Jan 2023   Prob (F-statistic):                    3.00e-12\n",
       "Time:                        00:47:00   Log-Likelihood:                         -25.284\n",
       "No. Observations:                  21   AIC:                                      52.57\n",
       "Df Residuals:                      20   BIC:                                      53.61\n",
       "Df Model:                           1                                                  \n",
       "Covariance Type:            nonrobust                                                  \n",
       "================================================================================\n",
       "                   coef    std err          t      P>|t|      [0.025      0.975]\n",
       "--------------------------------------------------------------------------------\n",
       "Sorting Time     0.4008      0.027     14.821      0.000       0.344       0.457\n",
       "==============================================================================\n",
       "Omnibus:                        2.572   Durbin-Watson:                   1.446\n",
       "Prob(Omnibus):                  0.276   Jarque-Bera (JB):                1.346\n",
       "Skew:                          -0.275   Prob(JB):                        0.510\n",
       "Kurtosis:                       1.889   Cond. No.                         1.00\n",
       "==============================================================================\n",
       "\n",
       "Notes:\n",
       "[1] R² is computed without centering (uncentered) since the model does not contain a constant.\n",
       "[2] Standard Errors assume that the covariance matrix of the errors is correctly specified.\n",
       "\"\"\""
      ]
     },
     "execution_count": 15,
     "metadata": {},
     "output_type": "execute_result"
    }
   ],
   "source": [
    "model.summary()"
   ]
  },
  {
   "cell_type": "markdown",
   "id": "0f521cbe",
   "metadata": {},
   "source": [
    "# 4 - Log Transformation of X & Y"
   ]
  },
  {
   "cell_type": "code",
   "execution_count": 16,
   "id": "eb56e2a6",
   "metadata": {
    "ExecuteTime": {
     "end_time": "2022-05-05T04:31:32.320440Z",
     "start_time": "2022-05-05T04:31:32.313414Z"
    }
   },
   "outputs": [],
   "source": [
    "model = sm.OLS(y_log, x_log).fit()\n",
    "predictions = model.predict(x_log)"
   ]
  },
  {
   "cell_type": "code",
   "execution_count": 17,
   "id": "c732063f",
   "metadata": {
    "ExecuteTime": {
     "end_time": "2022-05-05T04:31:44.917901Z",
     "start_time": "2022-05-05T04:31:44.883858Z"
    }
   },
   "outputs": [
    {
     "data": {
      "text/html": [
       "<table class=\"simpletable\">\n",
       "<caption>OLS Regression Results</caption>\n",
       "<tr>\n",
       "  <th>Dep. Variable:</th>      <td>Delivery Time</td>  <th>  R-squared (uncentered):</th>      <td>   0.972</td>\n",
       "</tr>\n",
       "<tr>\n",
       "  <th>Model:</th>                   <td>OLS</td>       <th>  Adj. R-squared (uncentered):</th> <td>   0.970</td>\n",
       "</tr>\n",
       "<tr>\n",
       "  <th>Method:</th>             <td>Least Squares</td>  <th>  F-statistic:       </th>          <td>   688.7</td>\n",
       "</tr>\n",
       "<tr>\n",
       "  <th>Date:</th>             <td>Sat, 07 Jan 2023</td> <th>  Prob (F-statistic):</th>          <td>5.72e-17</td>\n",
       "</tr>\n",
       "<tr>\n",
       "  <th>Time:</th>                 <td>00:47:02</td>     <th>  Log-Likelihood:    </th>          <td> -13.899</td>\n",
       "</tr>\n",
       "<tr>\n",
       "  <th>No. Observations:</th>      <td>    21</td>      <th>  AIC:               </th>          <td>   29.80</td>\n",
       "</tr>\n",
       "<tr>\n",
       "  <th>Df Residuals:</th>          <td>    20</td>      <th>  BIC:               </th>          <td>   30.84</td>\n",
       "</tr>\n",
       "<tr>\n",
       "  <th>Df Model:</th>              <td>     1</td>      <th>                     </th>              <td> </td>   \n",
       "</tr>\n",
       "<tr>\n",
       "  <th>Covariance Type:</th>      <td>nonrobust</td>    <th>                     </th>              <td> </td>   \n",
       "</tr>\n",
       "</table>\n",
       "<table class=\"simpletable\">\n",
       "<tr>\n",
       "        <td></td>          <th>coef</th>     <th>std err</th>      <th>t</th>      <th>P>|t|</th>  <th>[0.025</th>    <th>0.975]</th>  \n",
       "</tr>\n",
       "<tr>\n",
       "  <th>Sorting Time</th> <td>    1.5396</td> <td>    0.059</td> <td>   26.244</td> <td> 0.000</td> <td>    1.417</td> <td>    1.662</td>\n",
       "</tr>\n",
       "</table>\n",
       "<table class=\"simpletable\">\n",
       "<tr>\n",
       "  <th>Omnibus:</th>       <td> 1.636</td> <th>  Durbin-Watson:     </th> <td>   1.727</td>\n",
       "</tr>\n",
       "<tr>\n",
       "  <th>Prob(Omnibus):</th> <td> 0.441</td> <th>  Jarque-Bera (JB):  </th> <td>   1.137</td>\n",
       "</tr>\n",
       "<tr>\n",
       "  <th>Skew:</th>          <td> 0.304</td> <th>  Prob(JB):          </th> <td>   0.566</td>\n",
       "</tr>\n",
       "<tr>\n",
       "  <th>Kurtosis:</th>      <td> 2.035</td> <th>  Cond. No.          </th> <td>    1.00</td>\n",
       "</tr>\n",
       "</table><br/><br/>Notes:<br/>[1] R² is computed without centering (uncentered) since the model does not contain a constant.<br/>[2] Standard Errors assume that the covariance matrix of the errors is correctly specified."
      ],
      "text/plain": [
       "<class 'statsmodels.iolib.summary.Summary'>\n",
       "\"\"\"\n",
       "                                 OLS Regression Results                                \n",
       "=======================================================================================\n",
       "Dep. Variable:          Delivery Time   R-squared (uncentered):                   0.972\n",
       "Model:                            OLS   Adj. R-squared (uncentered):              0.970\n",
       "Method:                 Least Squares   F-statistic:                              688.7\n",
       "Date:                Sat, 07 Jan 2023   Prob (F-statistic):                    5.72e-17\n",
       "Time:                        00:47:02   Log-Likelihood:                         -13.899\n",
       "No. Observations:                  21   AIC:                                      29.80\n",
       "Df Residuals:                      20   BIC:                                      30.84\n",
       "Df Model:                           1                                                  \n",
       "Covariance Type:            nonrobust                                                  \n",
       "================================================================================\n",
       "                   coef    std err          t      P>|t|      [0.025      0.975]\n",
       "--------------------------------------------------------------------------------\n",
       "Sorting Time     1.5396      0.059     26.244      0.000       1.417       1.662\n",
       "==============================================================================\n",
       "Omnibus:                        1.636   Durbin-Watson:                   1.727\n",
       "Prob(Omnibus):                  0.441   Jarque-Bera (JB):                1.137\n",
       "Skew:                           0.304   Prob(JB):                        0.566\n",
       "Kurtosis:                       2.035   Cond. No.                         1.00\n",
       "==============================================================================\n",
       "\n",
       "Notes:\n",
       "[1] R² is computed without centering (uncentered) since the model does not contain a constant.\n",
       "[2] Standard Errors assume that the covariance matrix of the errors is correctly specified.\n",
       "\"\"\""
      ]
     },
     "execution_count": 17,
     "metadata": {},
     "output_type": "execute_result"
    }
   ],
   "source": [
    "model.summary()"
   ]
  },
  {
   "cell_type": "markdown",
   "id": "0fc4727c",
   "metadata": {},
   "source": [
    "# 5 - Sq Root Transformation of X"
   ]
  },
  {
   "cell_type": "code",
   "execution_count": 18,
   "id": "ff97e255",
   "metadata": {
    "ExecuteTime": {
     "end_time": "2022-05-05T04:32:07.213919Z",
     "start_time": "2022-05-05T04:32:07.206579Z"
    }
   },
   "outputs": [],
   "source": [
    "x_sqrt = np.sqrt(df['Sorting Time'])"
   ]
  },
  {
   "cell_type": "code",
   "execution_count": 19,
   "id": "64ff93c9",
   "metadata": {
    "ExecuteTime": {
     "end_time": "2022-05-05T04:32:16.415478Z",
     "start_time": "2022-05-05T04:32:16.397032Z"
    }
   },
   "outputs": [],
   "source": [
    "model = sm.OLS(y, x_sqrt).fit()\n",
    "predictions = model.predict(x_sqrt)"
   ]
  },
  {
   "cell_type": "code",
   "execution_count": 20,
   "id": "1009bd90",
   "metadata": {
    "ExecuteTime": {
     "end_time": "2022-05-05T04:32:25.333364Z",
     "start_time": "2022-05-05T04:32:25.306862Z"
    }
   },
   "outputs": [
    {
     "data": {
      "text/html": [
       "<table class=\"simpletable\">\n",
       "<caption>OLS Regression Results</caption>\n",
       "<tr>\n",
       "  <th>Dep. Variable:</th>      <td>Delivery Time</td>  <th>  R-squared (uncentered):</th>      <td>   0.975</td>\n",
       "</tr>\n",
       "<tr>\n",
       "  <th>Model:</th>                   <td>OLS</td>       <th>  Adj. R-squared (uncentered):</th> <td>   0.973</td>\n",
       "</tr>\n",
       "<tr>\n",
       "  <th>Method:</th>             <td>Least Squares</td>  <th>  F-statistic:       </th>          <td>   772.0</td>\n",
       "</tr>\n",
       "<tr>\n",
       "  <th>Date:</th>             <td>Sat, 07 Jan 2023</td> <th>  Prob (F-statistic):</th>          <td>1.88e-17</td>\n",
       "</tr>\n",
       "<tr>\n",
       "  <th>Time:</th>                 <td>00:47:05</td>     <th>  Log-Likelihood:    </th>          <td> -51.284</td>\n",
       "</tr>\n",
       "<tr>\n",
       "  <th>No. Observations:</th>      <td>    21</td>      <th>  AIC:               </th>          <td>   104.6</td>\n",
       "</tr>\n",
       "<tr>\n",
       "  <th>Df Residuals:</th>          <td>    20</td>      <th>  BIC:               </th>          <td>   105.6</td>\n",
       "</tr>\n",
       "<tr>\n",
       "  <th>Df Model:</th>              <td>     1</td>      <th>                     </th>              <td> </td>   \n",
       "</tr>\n",
       "<tr>\n",
       "  <th>Covariance Type:</th>      <td>nonrobust</td>    <th>                     </th>              <td> </td>   \n",
       "</tr>\n",
       "</table>\n",
       "<table class=\"simpletable\">\n",
       "<tr>\n",
       "        <td></td>          <th>coef</th>     <th>std err</th>      <th>t</th>      <th>P>|t|</th>  <th>[0.025</th>    <th>0.975]</th>  \n",
       "</tr>\n",
       "<tr>\n",
       "  <th>Sorting Time</th> <td>    6.9466</td> <td>    0.250</td> <td>   27.785</td> <td> 0.000</td> <td>    6.425</td> <td>    7.468</td>\n",
       "</tr>\n",
       "</table>\n",
       "<table class=\"simpletable\">\n",
       "<tr>\n",
       "  <th>Omnibus:</th>       <td> 6.818</td> <th>  Durbin-Watson:     </th> <td>   1.334</td>\n",
       "</tr>\n",
       "<tr>\n",
       "  <th>Prob(Omnibus):</th> <td> 0.033</td> <th>  Jarque-Bera (JB):  </th> <td>   4.599</td>\n",
       "</tr>\n",
       "<tr>\n",
       "  <th>Skew:</th>          <td> 1.090</td> <th>  Prob(JB):          </th> <td>   0.100</td>\n",
       "</tr>\n",
       "<tr>\n",
       "  <th>Kurtosis:</th>      <td> 3.708</td> <th>  Cond. No.          </th> <td>    1.00</td>\n",
       "</tr>\n",
       "</table><br/><br/>Notes:<br/>[1] R² is computed without centering (uncentered) since the model does not contain a constant.<br/>[2] Standard Errors assume that the covariance matrix of the errors is correctly specified."
      ],
      "text/plain": [
       "<class 'statsmodels.iolib.summary.Summary'>\n",
       "\"\"\"\n",
       "                                 OLS Regression Results                                \n",
       "=======================================================================================\n",
       "Dep. Variable:          Delivery Time   R-squared (uncentered):                   0.975\n",
       "Model:                            OLS   Adj. R-squared (uncentered):              0.973\n",
       "Method:                 Least Squares   F-statistic:                              772.0\n",
       "Date:                Sat, 07 Jan 2023   Prob (F-statistic):                    1.88e-17\n",
       "Time:                        00:47:05   Log-Likelihood:                         -51.284\n",
       "No. Observations:                  21   AIC:                                      104.6\n",
       "Df Residuals:                      20   BIC:                                      105.6\n",
       "Df Model:                           1                                                  \n",
       "Covariance Type:            nonrobust                                                  \n",
       "================================================================================\n",
       "                   coef    std err          t      P>|t|      [0.025      0.975]\n",
       "--------------------------------------------------------------------------------\n",
       "Sorting Time     6.9466      0.250     27.785      0.000       6.425       7.468\n",
       "==============================================================================\n",
       "Omnibus:                        6.818   Durbin-Watson:                   1.334\n",
       "Prob(Omnibus):                  0.033   Jarque-Bera (JB):                4.599\n",
       "Skew:                           1.090   Prob(JB):                        0.100\n",
       "Kurtosis:                       3.708   Cond. No.                         1.00\n",
       "==============================================================================\n",
       "\n",
       "Notes:\n",
       "[1] R² is computed without centering (uncentered) since the model does not contain a constant.\n",
       "[2] Standard Errors assume that the covariance matrix of the errors is correctly specified.\n",
       "\"\"\""
      ]
     },
     "execution_count": 20,
     "metadata": {},
     "output_type": "execute_result"
    }
   ],
   "source": [
    "model.summary()"
   ]
  },
  {
   "cell_type": "markdown",
   "id": "fbd7a327",
   "metadata": {},
   "source": [
    "# 6 - Square Root Transformation of Y"
   ]
  },
  {
   "cell_type": "code",
   "execution_count": 21,
   "id": "3ab87067",
   "metadata": {
    "ExecuteTime": {
     "end_time": "2022-05-05T04:32:49.272771Z",
     "start_time": "2022-05-05T04:32:49.265881Z"
    }
   },
   "outputs": [],
   "source": [
    "y_sqrt = np.sqrt(df['Delivery Time'])"
   ]
  },
  {
   "cell_type": "code",
   "execution_count": 22,
   "id": "f5c3c233",
   "metadata": {
    "ExecuteTime": {
     "end_time": "2022-05-05T04:32:57.410977Z",
     "start_time": "2022-05-05T04:32:57.389230Z"
    }
   },
   "outputs": [],
   "source": [
    "model = sm.OLS(y_sqrt, x).fit()\n",
    "predictions = model.predict(x)"
   ]
  },
  {
   "cell_type": "code",
   "execution_count": 23,
   "id": "a681dfb7",
   "metadata": {
    "ExecuteTime": {
     "end_time": "2022-05-05T04:33:04.970794Z",
     "start_time": "2022-05-05T04:33:04.937012Z"
    }
   },
   "outputs": [
    {
     "data": {
      "text/html": [
       "<table class=\"simpletable\">\n",
       "<caption>OLS Regression Results</caption>\n",
       "<tr>\n",
       "  <th>Dep. Variable:</th>      <td>Delivery Time</td>  <th>  R-squared (uncentered):</th>      <td>   0.930</td>\n",
       "</tr>\n",
       "<tr>\n",
       "  <th>Model:</th>                   <td>OLS</td>       <th>  Adj. R-squared (uncentered):</th> <td>   0.927</td>\n",
       "</tr>\n",
       "<tr>\n",
       "  <th>Method:</th>             <td>Least Squares</td>  <th>  F-statistic:       </th>          <td>   266.0</td>\n",
       "</tr>\n",
       "<tr>\n",
       "  <th>Date:</th>             <td>Sat, 07 Jan 2023</td> <th>  Prob (F-statistic):</th>          <td>5.09e-13</td>\n",
       "</tr>\n",
       "<tr>\n",
       "  <th>Time:</th>                 <td>00:47:08</td>     <th>  Log-Likelihood:    </th>          <td> -31.484</td>\n",
       "</tr>\n",
       "<tr>\n",
       "  <th>No. Observations:</th>      <td>    21</td>      <th>  AIC:               </th>          <td>   64.97</td>\n",
       "</tr>\n",
       "<tr>\n",
       "  <th>Df Residuals:</th>          <td>    20</td>      <th>  BIC:               </th>          <td>   66.01</td>\n",
       "</tr>\n",
       "<tr>\n",
       "  <th>Df Model:</th>              <td>     1</td>      <th>                     </th>              <td> </td>   \n",
       "</tr>\n",
       "<tr>\n",
       "  <th>Covariance Type:</th>      <td>nonrobust</td>    <th>                     </th>              <td> </td>   \n",
       "</tr>\n",
       "</table>\n",
       "<table class=\"simpletable\">\n",
       "<tr>\n",
       "        <td></td>          <th>coef</th>     <th>std err</th>      <th>t</th>      <th>P>|t|</th>  <th>[0.025</th>    <th>0.975]</th>  \n",
       "</tr>\n",
       "<tr>\n",
       "  <th>Sorting Time</th> <td>    0.5926</td> <td>    0.036</td> <td>   16.309</td> <td> 0.000</td> <td>    0.517</td> <td>    0.668</td>\n",
       "</tr>\n",
       "</table>\n",
       "<table class=\"simpletable\">\n",
       "<tr>\n",
       "  <th>Omnibus:</th>       <td> 1.452</td> <th>  Durbin-Watson:     </th> <td>   1.434</td>\n",
       "</tr>\n",
       "<tr>\n",
       "  <th>Prob(Omnibus):</th> <td> 0.484</td> <th>  Jarque-Bera (JB):  </th> <td>   1.105</td>\n",
       "</tr>\n",
       "<tr>\n",
       "  <th>Skew:</th>          <td>-0.328</td> <th>  Prob(JB):          </th> <td>   0.575</td>\n",
       "</tr>\n",
       "<tr>\n",
       "  <th>Kurtosis:</th>      <td> 2.087</td> <th>  Cond. No.          </th> <td>    1.00</td>\n",
       "</tr>\n",
       "</table><br/><br/>Notes:<br/>[1] R² is computed without centering (uncentered) since the model does not contain a constant.<br/>[2] Standard Errors assume that the covariance matrix of the errors is correctly specified."
      ],
      "text/plain": [
       "<class 'statsmodels.iolib.summary.Summary'>\n",
       "\"\"\"\n",
       "                                 OLS Regression Results                                \n",
       "=======================================================================================\n",
       "Dep. Variable:          Delivery Time   R-squared (uncentered):                   0.930\n",
       "Model:                            OLS   Adj. R-squared (uncentered):              0.927\n",
       "Method:                 Least Squares   F-statistic:                              266.0\n",
       "Date:                Sat, 07 Jan 2023   Prob (F-statistic):                    5.09e-13\n",
       "Time:                        00:47:08   Log-Likelihood:                         -31.484\n",
       "No. Observations:                  21   AIC:                                      64.97\n",
       "Df Residuals:                      20   BIC:                                      66.01\n",
       "Df Model:                           1                                                  \n",
       "Covariance Type:            nonrobust                                                  \n",
       "================================================================================\n",
       "                   coef    std err          t      P>|t|      [0.025      0.975]\n",
       "--------------------------------------------------------------------------------\n",
       "Sorting Time     0.5926      0.036     16.309      0.000       0.517       0.668\n",
       "==============================================================================\n",
       "Omnibus:                        1.452   Durbin-Watson:                   1.434\n",
       "Prob(Omnibus):                  0.484   Jarque-Bera (JB):                1.105\n",
       "Skew:                          -0.328   Prob(JB):                        0.575\n",
       "Kurtosis:                       2.087   Cond. No.                         1.00\n",
       "==============================================================================\n",
       "\n",
       "Notes:\n",
       "[1] R² is computed without centering (uncentered) since the model does not contain a constant.\n",
       "[2] Standard Errors assume that the covariance matrix of the errors is correctly specified.\n",
       "\"\"\""
      ]
     },
     "execution_count": 23,
     "metadata": {},
     "output_type": "execute_result"
    }
   ],
   "source": [
    "model.summary()"
   ]
  },
  {
   "cell_type": "markdown",
   "id": "005793a6",
   "metadata": {
    "ExecuteTime": {
     "end_time": "2022-05-05T04:33:13.919687Z",
     "start_time": "2022-05-05T04:33:13.900173Z"
    }
   },
   "source": [
    "# 7 - Square Root Transformation of X & Y"
   ]
  },
  {
   "cell_type": "code",
   "execution_count": 24,
   "id": "3bb8a1cf",
   "metadata": {
    "ExecuteTime": {
     "end_time": "2022-05-05T04:33:28.604704Z",
     "start_time": "2022-05-05T04:33:28.597030Z"
    }
   },
   "outputs": [],
   "source": [
    "model = sm.OLS(y_sqrt, x_sqrt).fit()\n",
    "predictions = model.predict(x_sqrt)"
   ]
  },
  {
   "cell_type": "code",
   "execution_count": 25,
   "id": "bd0b765d",
   "metadata": {
    "ExecuteTime": {
     "end_time": "2022-05-05T04:33:59.551429Z",
     "start_time": "2022-05-05T04:33:59.528159Z"
    }
   },
   "outputs": [
    {
     "data": {
      "text/html": [
       "<table class=\"simpletable\">\n",
       "<caption>OLS Regression Results</caption>\n",
       "<tr>\n",
       "  <th>Dep. Variable:</th>      <td>Delivery Time</td>  <th>  R-squared (uncentered):</th>      <td>   0.987</td>\n",
       "</tr>\n",
       "<tr>\n",
       "  <th>Model:</th>                   <td>OLS</td>       <th>  Adj. R-squared (uncentered):</th> <td>   0.987</td>\n",
       "</tr>\n",
       "<tr>\n",
       "  <th>Method:</th>             <td>Least Squares</td>  <th>  F-statistic:       </th>          <td>   1542.</td>\n",
       "</tr>\n",
       "<tr>\n",
       "  <th>Date:</th>             <td>Sat, 07 Jan 2023</td> <th>  Prob (F-statistic):</th>          <td>2.10e-20</td>\n",
       "</tr>\n",
       "<tr>\n",
       "  <th>Time:</th>                 <td>00:47:11</td>     <th>  Log-Likelihood:    </th>          <td> -13.658</td>\n",
       "</tr>\n",
       "<tr>\n",
       "  <th>No. Observations:</th>      <td>    21</td>      <th>  AIC:               </th>          <td>   29.32</td>\n",
       "</tr>\n",
       "<tr>\n",
       "  <th>Df Residuals:</th>          <td>    20</td>      <th>  BIC:               </th>          <td>   30.36</td>\n",
       "</tr>\n",
       "<tr>\n",
       "  <th>Df Model:</th>              <td>     1</td>      <th>                     </th>              <td> </td>   \n",
       "</tr>\n",
       "<tr>\n",
       "  <th>Covariance Type:</th>      <td>nonrobust</td>    <th>                     </th>              <td> </td>   \n",
       "</tr>\n",
       "</table>\n",
       "<table class=\"simpletable\">\n",
       "<tr>\n",
       "        <td></td>          <th>coef</th>     <th>std err</th>      <th>t</th>      <th>P>|t|</th>  <th>[0.025</th>    <th>0.975]</th>  \n",
       "</tr>\n",
       "<tr>\n",
       "  <th>Sorting Time</th> <td>    1.6364</td> <td>    0.042</td> <td>   39.267</td> <td> 0.000</td> <td>    1.549</td> <td>    1.723</td>\n",
       "</tr>\n",
       "</table>\n",
       "<table class=\"simpletable\">\n",
       "<tr>\n",
       "  <th>Omnibus:</th>       <td> 0.176</td> <th>  Durbin-Watson:     </th> <td>   1.461</td>\n",
       "</tr>\n",
       "<tr>\n",
       "  <th>Prob(Omnibus):</th> <td> 0.916</td> <th>  Jarque-Bera (JB):  </th> <td>   0.231</td>\n",
       "</tr>\n",
       "<tr>\n",
       "  <th>Skew:</th>          <td>-0.179</td> <th>  Prob(JB):          </th> <td>   0.891</td>\n",
       "</tr>\n",
       "<tr>\n",
       "  <th>Kurtosis:</th>      <td> 2.632</td> <th>  Cond. No.          </th> <td>    1.00</td>\n",
       "</tr>\n",
       "</table><br/><br/>Notes:<br/>[1] R² is computed without centering (uncentered) since the model does not contain a constant.<br/>[2] Standard Errors assume that the covariance matrix of the errors is correctly specified."
      ],
      "text/plain": [
       "<class 'statsmodels.iolib.summary.Summary'>\n",
       "\"\"\"\n",
       "                                 OLS Regression Results                                \n",
       "=======================================================================================\n",
       "Dep. Variable:          Delivery Time   R-squared (uncentered):                   0.987\n",
       "Model:                            OLS   Adj. R-squared (uncentered):              0.987\n",
       "Method:                 Least Squares   F-statistic:                              1542.\n",
       "Date:                Sat, 07 Jan 2023   Prob (F-statistic):                    2.10e-20\n",
       "Time:                        00:47:11   Log-Likelihood:                         -13.658\n",
       "No. Observations:                  21   AIC:                                      29.32\n",
       "Df Residuals:                      20   BIC:                                      30.36\n",
       "Df Model:                           1                                                  \n",
       "Covariance Type:            nonrobust                                                  \n",
       "================================================================================\n",
       "                   coef    std err          t      P>|t|      [0.025      0.975]\n",
       "--------------------------------------------------------------------------------\n",
       "Sorting Time     1.6364      0.042     39.267      0.000       1.549       1.723\n",
       "==============================================================================\n",
       "Omnibus:                        0.176   Durbin-Watson:                   1.461\n",
       "Prob(Omnibus):                  0.916   Jarque-Bera (JB):                0.231\n",
       "Skew:                          -0.179   Prob(JB):                        0.891\n",
       "Kurtosis:                       2.632   Cond. No.                         1.00\n",
       "==============================================================================\n",
       "\n",
       "Notes:\n",
       "[1] R² is computed without centering (uncentered) since the model does not contain a constant.\n",
       "[2] Standard Errors assume that the covariance matrix of the errors is correctly specified.\n",
       "\"\"\""
      ]
     },
     "execution_count": 25,
     "metadata": {},
     "output_type": "execute_result"
    }
   ],
   "source": [
    "model.summary()"
   ]
  },
  {
   "cell_type": "markdown",
   "id": "37bb2523",
   "metadata": {},
   "source": [
    "# 4 - Output Interpretation"
   ]
  },
  {
   "cell_type": "markdown",
   "id": "5f6c78f9",
   "metadata": {},
   "source": [
    "We will use Model 7 as it has the best R square value\n",
    "\n",
    "1 - p-value < 0.01\n",
    "Thus the model is accepted\n",
    "\n",
    "2 - coefficient == 1.64\n",
    "Thus if the value of Sorting Time is increased by 1, the predicted value of Delivery Time will increase by 1.64\n",
    "\n",
    "3 - Adj. R-sqared == 0.987\n",
    "Thus the model explains 98.7% of the variance in dependent variable"
   ]
  },
  {
   "cell_type": "code",
   "execution_count": null,
   "id": "8216fcde",
   "metadata": {},
   "outputs": [],
   "source": []
  }
 ],
 "metadata": {
  "kernelspec": {
   "display_name": "Python 3 (ipykernel)",
   "language": "python",
   "name": "python3"
  },
  "language_info": {
   "codemirror_mode": {
    "name": "ipython",
    "version": 3
   },
   "file_extension": ".py",
   "mimetype": "text/x-python",
   "name": "python",
   "nbconvert_exporter": "python",
   "pygments_lexer": "ipython3",
   "version": "3.8.10"
  }
 },
 "nbformat": 4,
 "nbformat_minor": 5
}
